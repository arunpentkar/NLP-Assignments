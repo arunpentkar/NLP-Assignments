{
  "nbformat": 4,
  "nbformat_minor": 0,
  "metadata": {
    "colab": {
      "provenance": [],
      "toc_visible": true,
      "include_colab_link": true
    },
    "kernelspec": {
      "name": "python3",
      "display_name": "Python 3"
    },
    "language_info": {
      "name": "python"
    }
  },
  "cells": [
    {
      "cell_type": "markdown",
      "metadata": {
        "id": "view-in-github",
        "colab_type": "text"
      },
      "source": [
        "<a href=\"https://colab.research.google.com/github/arunpentkar/NLP-Assignments/blob/main/Assignment_3.ipynb\" target=\"_parent\"><img src=\"https://colab.research.google.com/assets/colab-badge.svg\" alt=\"Open In Colab\"/></a>"
      ]
    },
    {
      "cell_type": "markdown",
      "source": [
        "# ASSIGNMENT - 3"
      ],
      "metadata": {
        "id": "aLKxRe5RGdQn"
      }
    },
    {
      "cell_type": "markdown",
      "source": [
        "1. Implement Word Embeddings on following text:\n",
        "\n",
        "    words = ['king', 'queen', 'man', 'woman', 'paris', 'france', 'london', 'england']."
      ],
      "metadata": {
        "id": "xCzGQ8PPEVIH"
      }
    },
    {
      "cell_type": "code",
      "execution_count": null,
      "metadata": {
        "colab": {
          "base_uri": "https://localhost:8080/"
        },
        "id": "6IR9DofQBJoY",
        "outputId": "468eb720-ffd4-4456-88d2-bf496c0c4f38"
      },
      "outputs": [
        {
          "output_type": "stream",
          "name": "stdout",
          "text": [
            "Word: king\n",
            "Embedding: [ 0.0033901 -0.34614    0.28144    0.48382    0.59469    0.012965\n",
            "  0.53982    0.48233    0.21463   -1.0249   ]...\n",
            "Word: queen\n",
            "Embedding: [-0.22184   0.064884 -0.086365  0.51279   0.32543  -0.12934   0.08316\n",
            "  0.091629 -0.30858  -0.94149 ]...\n",
            "Word: man\n",
            "Embedding: [-0.29784   -0.13255   -0.14505   -0.22752   -0.027429   0.11005\n",
            " -0.039245  -0.0089607 -0.18866   -1.1213   ]...\n",
            "Word: woman\n",
            "Embedding: [-0.51821   -0.13809   -0.41185   -0.13133    0.0035659 -0.31205\n",
            " -0.31242   -0.43538   -0.27017   -1.1338   ]...\n",
            "Word: paris\n",
            "Embedding: [ 0.28199  -0.043577 -0.2124   -0.21808   0.011582  0.68073   0.14141\n",
            " -0.65408  -0.24018  -1.2406  ]...\n",
            "Word: france\n",
            "Embedding: [-0.055966  0.33098  -0.48706  -0.63245   0.072906  0.54625  -0.040818\n",
            " -0.068302  0.017669 -1.7192  ]...\n",
            "Word: london\n",
            "Embedding: [-0.04269  -0.512     0.41169   0.58458   0.11428   0.028419  0.51596\n",
            "  0.084272 -0.28982  -1.1916  ]...\n",
            "Word: england\n",
            "Embedding: [-0.23057   0.19392   0.2562   -0.063596  0.36684  -0.24985   0.36931\n",
            "  0.15619  -0.54335  -0.76408 ]...\n"
          ]
        }
      ],
      "source": [
        "import gensim.downloader as api\n",
        "\n",
        "model = api.load('glove-wiki-gigaword-300')\n",
        "\n",
        "words = ['king', 'queen', 'man', 'woman', 'paris', 'france', 'london', 'england']\n",
        "\n",
        "embeddings = {word: model[word] for word in words}\n",
        "\n",
        "for word, embedding in embeddings.items():\n",
        "    print(f\"Word: {word}\\nEmbedding: {embedding[:10]}...\")\n"
      ]
    },
    {
      "cell_type": "markdown",
      "source": [
        "2. Implement Word Embeddings using PCA (Principal Component Analysis) on following text:\n",
        "\n",
        "    words = ['king', 'queen', 'man', 'woman', 'paris', 'france', 'london', 'england']."
      ],
      "metadata": {
        "id": "48zVgmH2EIPa"
      }
    },
    {
      "cell_type": "code",
      "source": [
        "import numpy as np\n",
        "from sklearn.decomposition import PCA\n",
        "import matplotlib.pyplot as plt\n",
        "\n",
        "embedding_matrix = np.array([embeddings[word] for word in words])\n",
        "\n",
        "pca = PCA(n_components=2)\n",
        "reduced_embeddings = pca.fit_transform(embedding_matrix)\n",
        "\n",
        "plt.figure(figsize=(8, 6))\n",
        "for word, (x, y) in zip(words, reduced_embeddings):\n",
        "    plt.scatter(x, y)\n",
        "    plt.text(x + 0.01, y + 0.01, word, fontsize=12)\n",
        "\n",
        "plt.title(\"PCA of Word Embeddings\")\n",
        "plt.xlabel(\"PC1\")\n",
        "plt.ylabel(\"PC2\")\n",
        "plt.grid(True)\n",
        "plt.show()\n",
        "\n"
      ],
      "metadata": {
        "colab": {
          "base_uri": "https://localhost:8080/",
          "height": 564
        },
        "id": "Reu6h2aaCysY",
        "outputId": "55f5a202-a515-44ab-aaf4-4b94e07ce247"
      },
      "execution_count": null,
      "outputs": [
        {
          "output_type": "display_data",
          "data": {
            "text/plain": [
              "<Figure size 800x600 with 1 Axes>"
            ],
            "image/png": "[encoded data removed]"
          },
          "metadata": {}
        }
      ]
    },
    {
      "cell_type": "markdown",
      "source": [
        "3. Execute Dependency Parsing on any text or on following text\n",
        "\n",
        "    \"The quick brown fox jumps over the lazy dog\""
      ],
      "metadata": {
        "id": "K7rwJqJPD2wA"
      }
    },
    {
      "cell_type": "code",
      "source": [
        "import spacy\n",
        "\n",
        "nlp = spacy.load(\"en_core_web_sm\")\n",
        "\n",
        "text = \"The quick brown fox jumps over the lazy dog\"\n",
        "\n",
        "doc = nlp(text)\n",
        "\n",
        "for token in doc:\n",
        "    print(f\"'{token.text}' -> {token.dep_} (Head: '{token.head.text}')\")\n"
      ],
      "metadata": {
        "colab": {
          "base_uri": "https://localhost:8080/"
        },
        "id": "tytWvCbdDay3",
        "outputId": "d16294b1-89da-4b7b-de69-2e8da202977d"
      },
      "execution_count": null,
      "outputs": [
        {
          "output_type": "stream",
          "name": "stdout",
          "text": [
            "'The' -> det (Head: 'fox')\n",
            "'quick' -> amod (Head: 'fox')\n",
            "'brown' -> amod (Head: 'fox')\n",
            "'fox' -> nsubj (Head: 'jumps')\n",
            "'jumps' -> ROOT (Head: 'jumps')\n",
            "'over' -> prep (Head: 'jumps')\n",
            "'the' -> det (Head: 'dog')\n",
            "'lazy' -> amod (Head: 'dog')\n",
            "'dog' -> pobj (Head: 'over')\n"
          ]
        }
      ]
    }
  ]
}